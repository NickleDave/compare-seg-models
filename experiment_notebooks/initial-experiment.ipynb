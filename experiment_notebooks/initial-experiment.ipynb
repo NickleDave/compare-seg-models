{
 "cells": [
  {
   "cell_type": "code",
   "execution_count": 1,
   "metadata": {},
   "outputs": [],
   "source": [
    "expt_configs = '/home/ildefonso/Documents/repositories/coding/segmentation/compare-seg-models/experiment_configs'\n",
    "net_configs = '/home/ildefonso/Documents/repositories/coding/segmentation/compare-seg-models/network_configs/'"
   ]
  },
  {
   "cell_type": "code",
   "execution_count": 3,
   "metadata": {},
   "outputs": [
    {
     "data": {
      "text/plain": [
       "['config_02282018_koumura_bird0_GPU1.ini']"
      ]
     },
     "execution_count": 3,
     "metadata": {},
     "output_type": "execute_result"
    }
   ],
   "source": [
    "import os\n",
    "os.listdir(expt_configs)"
   ]
  },
  {
   "cell_type": "code",
   "execution_count": 2,
   "metadata": {},
   "outputs": [
    {
     "name": "stderr",
     "output_type": "stream",
     "text": [
      "/home/ildefonso/anaconda3/envs/tcn/lib/python3.5/site-packages/h5py/__init__.py:36: FutureWarning: Conversion of the second argument of issubdtype from `float` to `np.floating` is deprecated. In future, it will be treated as `np.float64 == np.dtype(float).type`.\n",
      "  from ._conv import register_converters as _register_converters\n"
     ]
    }
   ],
   "source": [
    "import seg_nets"
   ]
  },
  {
   "cell_type": "code",
   "execution_count": 4,
   "metadata": {},
   "outputs": [
    {
     "ename": "SyntaxError",
     "evalue": "invalid syntax (<ipython-input-4-f0b79f9bc905>, line 1)",
     "output_type": "error",
     "traceback": [
      "\u001b[0;36m  File \u001b[0;32m\"<ipython-input-4-f0b79f9bc905>\"\u001b[0;36m, line \u001b[0;32m1\u001b[0m\n\u001b[0;31m    ../learn_curve_keras.py\u001b[0m\n\u001b[0m    ^\u001b[0m\n\u001b[0;31mSyntaxError\u001b[0m\u001b[0;31m:\u001b[0m invalid syntax\n"
     ]
    }
   ],
   "source": [
    "../learn_curve_keras.py"
   ]
  },
  {
   "cell_type": "code",
   "execution_count": 5,
   "metadata": {},
   "outputs": [
    {
     "name": "stdout",
     "output_type": "stream",
     "text": [
      "initial-experiment.ipynb\r\n"
     ]
    }
   ],
   "source": [
    "ls"
   ]
  },
  {
   "cell_type": "code",
   "execution_count": 8,
   "metadata": {},
   "outputs": [
    {
     "name": "stdout",
     "output_type": "stream",
     "text": [
      "/home/ildefonso/Documents/repositories/coding/segmentation/compare-seg-models\n"
     ]
    }
   ],
   "source": [
    "cd /home/ildefonso/Documents/repositories/coding/segmentation/compare-seg-models"
   ]
  },
  {
   "cell_type": "code",
   "execution_count": 15,
   "metadata": {},
   "outputs": [
    {
     "name": "stdout",
     "output_type": "stream",
     "text": [
      "/home/ildefonso/anaconda3/envs/tcn/lib/python3.5/site-packages/h5py/__init__.py:36: FutureWarning: Conversion of the second argument of issubdtype from `float` to `np.floating` is deprecated. In future, it will be treated as `np.float64 == np.dtype(float).type`.\n",
      "  from ._conv import register_converters as _register_converters\n",
      "making .spect file for /home/ildefonso/data/birdsong_recognition/Bird0/Wave/112.wav\n",
      "making .spect file for /home/ildefonso/data/birdsong_recognition/Bird0/Wave/24.wav\n",
      "making .spect file for /home/ildefonso/data/birdsong_recognition/Bird0/Wave/95.wav\n",
      "making .spect file for /home/ildefonso/data/birdsong_recognition/Bird0/Wave/38.wav\n",
      "making .spect file for /home/ildefonso/data/birdsong_recognition/Bird0/Wave/131.wav\n",
      "making .spect file for /home/ildefonso/data/birdsong_recognition/Bird0/Wave/86.wav\n",
      "making .spect file for /home/ildefonso/data/birdsong_recognition/Bird0/Wave/80.wav\n",
      "making .spect file for /home/ildefonso/data/birdsong_recognition/Bird0/Wave/85.wav\n",
      "making .spect file for /home/ildefonso/data/birdsong_recognition/Bird0/Wave/79.wav\n",
      "making .spect file for /home/ildefonso/data/birdsong_recognition/Bird0/Wave/67.wav\n",
      "making .spect file for /home/ildefonso/data/birdsong_recognition/Bird0/Wave/66.wav\n",
      "making .spect file for /home/ildefonso/data/birdsong_recognition/Bird0/Wave/106.wav\n",
      "making .spect file for /home/ildefonso/data/birdsong_recognition/Bird0/Wave/27.wav\n",
      "making .spect file for /home/ildefonso/data/birdsong_recognition/Bird0/Wave/13.wav\n",
      "making .spect file for /home/ildefonso/data/birdsong_recognition/Bird0/Wave/98.wav\n",
      "making .spect file for /home/ildefonso/data/birdsong_recognition/Bird0/Wave/108.wav\n",
      "making .spect file for /home/ildefonso/data/birdsong_recognition/Bird0/Wave/111.wav\n",
      "making .spect file for /home/ildefonso/data/birdsong_recognition/Bird0/Wave/31.wav\n",
      "making .spect file for /home/ildefonso/data/birdsong_recognition/Bird0/Wave/37.wav\n",
      "making .spect file for /home/ildefonso/data/birdsong_recognition/Bird0/Wave/75.wav\n",
      "making .spect file for /home/ildefonso/data/birdsong_recognition/Bird0/Wave/4.wav\n",
      "making .spect file for /home/ildefonso/data/birdsong_recognition/Bird0/Wave/59.wav\n",
      "making .spect file for /home/ildefonso/data/birdsong_recognition/Bird0/Wave/71.wav\n",
      "making .spect file for /home/ildefonso/data/birdsong_recognition/Bird0/Wave/64.wav\n",
      "making .spect file for /home/ildefonso/data/birdsong_recognition/Bird0/Wave/94.wav\n",
      "making .spect file for /home/ildefonso/data/birdsong_recognition/Bird0/Wave/20.wav\n",
      "making .spect file for /home/ildefonso/data/birdsong_recognition/Bird0/Wave/68.wav\n",
      "making .spect file for /home/ildefonso/data/birdsong_recognition/Bird0/Wave/100.wav\n",
      "making .spect file for /home/ildefonso/data/birdsong_recognition/Bird0/Wave/69.wav\n",
      "making .spect file for /home/ildefonso/data/birdsong_recognition/Bird0/Wave/84.wav\n",
      "making .spect file for /home/ildefonso/data/birdsong_recognition/Bird0/Wave/5.wav\n",
      "making .spect file for /home/ildefonso/data/birdsong_recognition/Bird0/Wave/1.wav\n",
      "making .spect file for /home/ildefonso/data/birdsong_recognition/Bird0/Wave/12.wav\n",
      "making .spect file for /home/ildefonso/data/birdsong_recognition/Bird0/Wave/58.wav\n",
      "making .spect file for /home/ildefonso/data/birdsong_recognition/Bird0/Wave/122.wav\n",
      "making .spect file for /home/ildefonso/data/birdsong_recognition/Bird0/Wave/65.wav\n",
      "making .spect file for /home/ildefonso/data/birdsong_recognition/Bird0/Wave/0.wav\n",
      "making .spect file for /home/ildefonso/data/birdsong_recognition/Bird0/Wave/10.wav\n",
      "making .spect file for /home/ildefonso/data/birdsong_recognition/Bird0/Wave/19.wav\n",
      "making .spect file for /home/ildefonso/data/birdsong_recognition/Bird0/Wave/90.wav\n",
      "making .spect file for /home/ildefonso/data/birdsong_recognition/Bird0/Wave/54.wav\n",
      "making .spect file for /home/ildefonso/data/birdsong_recognition/Bird0/Wave/113.wav\n",
      "making .spect file for /home/ildefonso/data/birdsong_recognition/Bird0/Wave/23.wav\n",
      "making .spect file for /home/ildefonso/data/birdsong_recognition/Bird0/Wave/43.wav\n",
      "making .spect file for /home/ildefonso/data/birdsong_recognition/Bird0/Wave/41.wav\n",
      "making .spect file for /home/ildefonso/data/birdsong_recognition/Bird0/Wave/51.wav\n",
      "making .spect file for /home/ildefonso/data/birdsong_recognition/Bird0/Wave/105.wav\n",
      "making .spect file for /home/ildefonso/data/birdsong_recognition/Bird0/Wave/7.wav\n",
      "making .spect file for /home/ildefonso/data/birdsong_recognition/Bird0/Wave/126.wav\n",
      "making .spect file for /home/ildefonso/data/birdsong_recognition/Bird0/Wave/133.wav\n",
      "making .spect file for /home/ildefonso/data/birdsong_recognition/Bird0/Wave/44.wav\n",
      "making .spect file for /home/ildefonso/data/birdsong_recognition/Bird0/Wave/47.wav\n",
      "making .spect file for /home/ildefonso/data/birdsong_recognition/Bird0/Wave/6.wav\n",
      "making .spect file for /home/ildefonso/data/birdsong_recognition/Bird0/Wave/70.wav\n",
      "making .spect file for /home/ildefonso/data/birdsong_recognition/Bird0/Wave/96.wav\n",
      "making .spect file for /home/ildefonso/data/birdsong_recognition/Bird0/Wave/25.wav\n",
      "making .spect file for /home/ildefonso/data/birdsong_recognition/Bird0/Wave/14.wav\n",
      "making .spect file for /home/ildefonso/data/birdsong_recognition/Bird0/Wave/8.wav\n",
      "making .spect file for /home/ildefonso/data/birdsong_recognition/Bird0/Wave/18.wav\n",
      "making .spect file for /home/ildefonso/data/birdsong_recognition/Bird0/Wave/33.wav\n",
      "making .spect file for /home/ildefonso/data/birdsong_recognition/Bird0/Wave/76.wav\n",
      "making .spect file for /home/ildefonso/data/birdsong_recognition/Bird0/Wave/127.wav\n",
      "making .spect file for /home/ildefonso/data/birdsong_recognition/Bird0/Wave/102.wav\n",
      "making .spect file for /home/ildefonso/data/birdsong_recognition/Bird0/Wave/134.wav\n",
      "making .spect file for /home/ildefonso/data/birdsong_recognition/Bird0/Wave/36.wav\n",
      "making .spect file for /home/ildefonso/data/birdsong_recognition/Bird0/Wave/34.wav\n",
      "making .spect file for /home/ildefonso/data/birdsong_recognition/Bird0/Wave/82.wav\n",
      "making .spect file for /home/ildefonso/data/birdsong_recognition/Bird0/Wave/119.wav\n",
      "making .spect file for /home/ildefonso/data/birdsong_recognition/Bird0/Wave/16.wav\n",
      "making .spect file for /home/ildefonso/data/birdsong_recognition/Bird0/Wave/72.wav\n",
      "making .spect file for /home/ildefonso/data/birdsong_recognition/Bird0/Wave/39.wav\n",
      "making .spect file for /home/ildefonso/data/birdsong_recognition/Bird0/Wave/124.wav\n",
      "making .spect file for /home/ildefonso/data/birdsong_recognition/Bird0/Wave/81.wav\n",
      "making .spect file for /home/ildefonso/data/birdsong_recognition/Bird0/Wave/116.wav\n",
      "making .spect file for /home/ildefonso/data/birdsong_recognition/Bird0/Wave/53.wav\n",
      "making .spect file for /home/ildefonso/data/birdsong_recognition/Bird0/Wave/128.wav\n",
      "making .spect file for /home/ildefonso/data/birdsong_recognition/Bird0/Wave/88.wav\n",
      "making .spect file for /home/ildefonso/data/birdsong_recognition/Bird0/Wave/123.wav\n",
      "making .spect file for /home/ildefonso/data/birdsong_recognition/Bird0/Wave/104.wav\n",
      "making .spect file for /home/ildefonso/data/birdsong_recognition/Bird0/Wave/63.wav\n",
      "making .spect file for /home/ildefonso/data/birdsong_recognition/Bird0/Wave/21.wav\n",
      "making .spect file for /home/ildefonso/data/birdsong_recognition/Bird0/Wave/103.wav\n",
      "making .spect file for /home/ildefonso/data/birdsong_recognition/Bird0/Wave/121.wav\n",
      "making .spect file for /home/ildefonso/data/birdsong_recognition/Bird0/Wave/107.wav\n",
      "making .spect file for /home/ildefonso/data/birdsong_recognition/Bird0/Wave/28.wav\n",
      "making .spect file for /home/ildefonso/data/birdsong_recognition/Bird0/Wave/29.wav\n",
      "making .spect file for /home/ildefonso/data/birdsong_recognition/Bird0/Wave/101.wav\n",
      "making .spect file for /home/ildefonso/data/birdsong_recognition/Bird0/Wave/89.wav\n",
      "making .spect file for /home/ildefonso/data/birdsong_recognition/Bird0/Wave/56.wav\n",
      "making .spect file for /home/ildefonso/data/birdsong_recognition/Bird0/Wave/46.wav\n",
      "making .spect file for /home/ildefonso/data/birdsong_recognition/Bird0/Wave/114.wav\n",
      "making .spect file for /home/ildefonso/data/birdsong_recognition/Bird0/Wave/77.wav\n",
      "making .spect file for /home/ildefonso/data/birdsong_recognition/Bird0/Wave/52.wav\n",
      "making .spect file for /home/ildefonso/data/birdsong_recognition/Bird0/Wave/30.wav\n",
      "making .spect file for /home/ildefonso/data/birdsong_recognition/Bird0/Wave/62.wav\n"
     ]
    },
    {
     "name": "stdout",
     "output_type": "stream",
     "text": [
      "making .spect file for /home/ildefonso/data/birdsong_recognition/Bird0/Wave/130.wav\n",
      "making .spect file for /home/ildefonso/data/birdsong_recognition/Bird0/Wave/118.wav\n",
      "making .spect file for /home/ildefonso/data/birdsong_recognition/Bird0/Wave/132.wav\n",
      "making .spect file for /home/ildefonso/data/birdsong_recognition/Bird0/Wave/22.wav\n",
      "making .spect file for /home/ildefonso/data/birdsong_recognition/Bird0/Wave/45.wav\n",
      "making .spect file for /home/ildefonso/data/birdsong_recognition/Bird0/Wave/60.wav\n",
      "making .spect file for /home/ildefonso/data/birdsong_recognition/Bird0/Wave/55.wav\n",
      "making .spect file for /home/ildefonso/data/birdsong_recognition/Bird0/Wave/2.wav\n",
      "making .spect file for /home/ildefonso/data/birdsong_recognition/Bird0/Wave/78.wav\n",
      "making .spect file for /home/ildefonso/data/birdsong_recognition/Bird0/Wave/74.wav\n",
      "making .spect file for /home/ildefonso/data/birdsong_recognition/Bird0/Wave/17.wav\n",
      "making .spect file for /home/ildefonso/data/birdsong_recognition/Bird0/Wave/110.wav\n",
      "making .spect file for /home/ildefonso/data/birdsong_recognition/Bird0/Wave/57.wav\n",
      "making .spect file for /home/ildefonso/data/birdsong_recognition/Bird0/Wave/42.wav\n",
      "making .spect file for /home/ildefonso/data/birdsong_recognition/Bird0/Wave/93.wav\n",
      "making .spect file for /home/ildefonso/data/birdsong_recognition/Bird0/Wave/3.wav\n",
      "making .spect file for /home/ildefonso/data/birdsong_recognition/Bird0/Wave/26.wav\n",
      "making .spect file for /home/ildefonso/data/birdsong_recognition/Bird0/Wave/129.wav\n",
      "making .spect file for /home/ildefonso/data/birdsong_recognition/Bird0/Wave/50.wav\n",
      "making .spect file for /home/ildefonso/data/birdsong_recognition/Bird0/Wave/117.wav\n",
      "making .spect file for /home/ildefonso/data/birdsong_recognition/Bird0/Wave/40.wav\n",
      "making .spect file for /home/ildefonso/data/birdsong_recognition/Bird0/Wave/49.wav\n",
      "making .spect file for /home/ildefonso/data/birdsong_recognition/Bird0/Wave/9.wav\n",
      "making .spect file for /home/ildefonso/data/birdsong_recognition/Bird0/Wave/32.wav\n",
      "making .spect file for /home/ildefonso/data/birdsong_recognition/Bird0/Wave/125.wav\n",
      "making .spect file for /home/ildefonso/data/birdsong_recognition/Bird0/Wave/115.wav\n",
      "making .spect file for /home/ildefonso/data/birdsong_recognition/Bird0/Wave/73.wav\n",
      "making .spect file for /home/ildefonso/data/birdsong_recognition/Bird0/Wave/87.wav\n",
      "making .spect file for /home/ildefonso/data/birdsong_recognition/Bird0/Wave/92.wav\n",
      "making .spect file for /home/ildefonso/data/birdsong_recognition/Bird0/Wave/35.wav\n",
      "making .spect file for /home/ildefonso/data/birdsong_recognition/Bird0/Wave/109.wav\n",
      "making .spect file for /home/ildefonso/data/birdsong_recognition/Bird0/Wave/15.wav\n",
      "making .spect file for /home/ildefonso/data/birdsong_recognition/Bird0/Wave/97.wav\n",
      "making .spect file for /home/ildefonso/data/birdsong_recognition/Bird0/Wave/99.wav\n",
      "making .spect file for /home/ildefonso/data/birdsong_recognition/Bird0/Wave/48.wav\n",
      "making .spect file for /home/ildefonso/data/birdsong_recognition/Bird0/Wave/11.wav\n",
      "making .spect file for /home/ildefonso/data/birdsong_recognition/Bird0/Wave/83.wav\n",
      "making .spect file for /home/ildefonso/data/birdsong_recognition/Bird0/Wave/120.wav\n",
      "making .spect file for /home/ildefonso/data/birdsong_recognition/Bird0/Wave/91.wav\n",
      "making .spect file for /home/ildefonso/data/birdsong_recognition/Bird0/Wave/61.wav\n",
      "saving data dictionary in /home/ildefonso/data/birdsong_recognition/Bird0/Wave/spectrograms_180406_202921\n",
      "saving data dictionary in /home/ildefonso/data/birdsong_recognition/Bird0/Wave/spectrograms_180406_202921\n",
      "saving data dictionary in /home/ildefonso/data/birdsong_recognition/Bird0/Wave/spectrograms_180406_202921\n"
     ]
    }
   ],
   "source": [
    "!python make_data.py ./experiment_configs/config_20180406_koumura_bird0_GPU1.ini"
   ]
  },
  {
   "cell_type": "code",
   "execution_count": 24,
   "metadata": {
    "scrolled": true
   },
   "outputs": [
    {
     "ename": "ImportError",
     "evalue": "cannot import name 'reshape_inputs_and_make_masks'",
     "output_type": "error",
     "traceback": [
      "\u001b[0;31m---------------------------------------------------------------------------\u001b[0m",
      "\u001b[0;31mImportError\u001b[0m                               Traceback (most recent call last)",
      "\u001b[0;32m~/Documents/repositories/coding/segmentation/compare-seg-models/learn_curve_keras.py\u001b[0m in \u001b[0;36m<module>\u001b[0;34m()\u001b[0m\n\u001b[1;32m     14\u001b[0m \u001b[0;32mfrom\u001b[0m \u001b[0mseg_nets\u001b[0m\u001b[0;34m.\u001b[0m\u001b[0mkeras_models\u001b[0m \u001b[0;32mimport\u001b[0m \u001b[0mED_TCN\u001b[0m\u001b[0;34m,\u001b[0m \u001b[0mDilated_TCN\u001b[0m\u001b[0;34m\u001b[0m\u001b[0m\n\u001b[1;32m     15\u001b[0m \u001b[0;32mimport\u001b[0m \u001b[0mseg_nets\u001b[0m\u001b[0;34m.\u001b[0m\u001b[0mdata_utils\u001b[0m\u001b[0;34m\u001b[0m\u001b[0m\n\u001b[0;32m---> 16\u001b[0;31m \u001b[0;32mfrom\u001b[0m \u001b[0mseg_nets\u001b[0m\u001b[0;34m.\u001b[0m\u001b[0mdata_utils\u001b[0m \u001b[0;32mimport\u001b[0m \u001b[0mreshape_inputs_and_make_masks\u001b[0m\u001b[0;34m\u001b[0m\u001b[0m\n\u001b[0m\u001b[1;32m     17\u001b[0m \u001b[0;34m\u001b[0m\u001b[0m\n\u001b[1;32m     18\u001b[0m \u001b[0;32mif\u001b[0m \u001b[0m__name__\u001b[0m \u001b[0;34m==\u001b[0m \u001b[0;34m\"__main__\"\u001b[0m\u001b[0;34m:\u001b[0m\u001b[0;34m\u001b[0m\u001b[0m\n",
      "\u001b[0;31mImportError\u001b[0m: cannot import name 'reshape_inputs_and_make_masks'"
     ]
    }
   ],
   "source": [
    "%run learn_curve_keras.py ./experiment_configs/config_20180406_koumura_bird0_GPU1.ini"
   ]
  },
  {
   "cell_type": "code",
   "execution_count": null,
   "metadata": {},
   "outputs": [],
   "source": []
  }
 ],
 "metadata": {
  "kernelspec": {
   "display_name": "Python 3",
   "language": "python",
   "name": "python3"
  },
  "language_info": {
   "codemirror_mode": {
    "name": "ipython",
    "version": 3
   },
   "file_extension": ".py",
   "mimetype": "text/x-python",
   "name": "python",
   "nbconvert_exporter": "python",
   "pygments_lexer": "ipython3",
   "version": "3.5.5"
  }
 },
 "nbformat": 4,
 "nbformat_minor": 2
}
