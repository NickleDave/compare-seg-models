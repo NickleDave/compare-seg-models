{
 "cells": [
  {
   "cell_type": "code",
   "execution_count": 1,
   "metadata": {},
   "outputs": [],
   "source": [
    "expt_configs = '/home/ildefonso/Documents/repositories/coding/segmentation/compare-seg-models/experiment_configs'\n",
    "net_configs = '/home/ildefonso/Documents/repositories/coding/segmentation/compare-seg-models/network_configs/'"
   ]
  },
  {
   "cell_type": "code",
   "execution_count": 3,
   "metadata": {},
   "outputs": [
    {
     "data": {
      "text/plain": [
       "['config_02282018_koumura_bird0_GPU1.ini']"
      ]
     },
     "execution_count": 3,
     "metadata": {},
     "output_type": "execute_result"
    }
   ],
   "source": [
    "import os\n",
    "os.listdir(expt_configs)"
   ]
  },
  {
   "cell_type": "code",
   "execution_count": 2,
   "metadata": {},
   "outputs": [
    {
     "name": "stderr",
     "output_type": "stream",
     "text": [
      "/home/ildefonso/anaconda3/envs/tcn/lib/python3.5/site-packages/h5py/__init__.py:36: FutureWarning: Conversion of the second argument of issubdtype from `float` to `np.floating` is deprecated. In future, it will be treated as `np.float64 == np.dtype(float).type`.\n",
      "  from ._conv import register_converters as _register_converters\n"
     ]
    }
   ],
   "source": [
    "import seg_nets"
   ]
  },
  {
   "cell_type": "code",
   "execution_count": 4,
   "metadata": {},
   "outputs": [
    {
     "ename": "SyntaxError",
     "evalue": "invalid syntax (<ipython-input-4-f0b79f9bc905>, line 1)",
     "output_type": "error",
     "traceback": [
      "\u001b[0;36m  File \u001b[0;32m\"<ipython-input-4-f0b79f9bc905>\"\u001b[0;36m, line \u001b[0;32m1\u001b[0m\n\u001b[0;31m    ../learn_curve_keras.py\u001b[0m\n\u001b[0m    ^\u001b[0m\n\u001b[0;31mSyntaxError\u001b[0m\u001b[0;31m:\u001b[0m invalid syntax\n"
     ]
    }
   ],
   "source": [
    "../learn_curve_keras.py"
   ]
  },
  {
   "cell_type": "code",
   "execution_count": 5,
   "metadata": {},
   "outputs": [
    {
     "name": "stdout",
     "output_type": "stream",
     "text": [
      "initial-experiment.ipynb\r\n"
     ]
    }
   ],
   "source": [
    "ls"
   ]
  },
  {
   "cell_type": "code",
   "execution_count": 8,
   "metadata": {},
   "outputs": [
    {
     "name": "stdout",
     "output_type": "stream",
     "text": [
      "/home/ildefonso/Documents/repositories/coding/segmentation/compare-seg-models\n"
     ]
    }
   ],
   "source": [
    "cd /home/ildefonso/Documents/repositories/coding/segmentation/compare-seg-models"
   ]
  },
  {
   "cell_type": "code",
   "execution_count": 15,
   "metadata": {},
   "outputs": [
    {
     "name": "stdout",
     "output_type": "stream",
     "text": [
      "/home/ildefonso/anaconda3/envs/tcn/lib/python3.5/site-packages/h5py/__init__.py:36: FutureWarning: Conversion of the second argument of issubdtype from `float` to `np.floating` is deprecated. In future, it will be treated as `np.float64 == np.dtype(float).type`.\n",
      "  from ._conv import register_converters as _register_converters\n",
      "making .spect file for /home/ildefonso/data/birdsong_recognition/Bird0/Wave/112.wav\n",
      "making .spect file for /home/ildefonso/data/birdsong_recognition/Bird0/Wave/24.wav\n",
      "making .spect file for /home/ildefonso/data/birdsong_recognition/Bird0/Wave/95.wav\n",
      "making .spect file for /home/ildefonso/data/birdsong_recognition/Bird0/Wave/38.wav\n",
      "making .spect file for /home/ildefonso/data/birdsong_recognition/Bird0/Wave/131.wav\n",
      "making .spect file for /home/ildefonso/data/birdsong_recognition/Bird0/Wave/86.wav\n",
      "making .spect file for /home/ildefonso/data/birdsong_recognition/Bird0/Wave/80.wav\n",
      "making .spect file for /home/ildefonso/data/birdsong_recognition/Bird0/Wave/85.wav\n",
      "making .spect file for /home/ildefonso/data/birdsong_recognition/Bird0/Wave/79.wav\n",
      "making .spect file for /home/ildefonso/data/birdsong_recognition/Bird0/Wave/67.wav\n",
      "making .spect file for /home/ildefonso/data/birdsong_recognition/Bird0/Wave/66.wav\n",
      "making .spect file for /home/ildefonso/data/birdsong_recognition/Bird0/Wave/106.wav\n",
      "making .spect file for /home/ildefonso/data/birdsong_recognition/Bird0/Wave/27.wav\n",
      "making .spect file for /home/ildefonso/data/birdsong_recognition/Bird0/Wave/13.wav\n",
      "making .spect file for /home/ildefonso/data/birdsong_recognition/Bird0/Wave/98.wav\n",
      "making .spect file for /home/ildefonso/data/birdsong_recognition/Bird0/Wave/108.wav\n",
      "making .spect file for /home/ildefonso/data/birdsong_recognition/Bird0/Wave/111.wav\n",
      "making .spect file for /home/ildefonso/data/birdsong_recognition/Bird0/Wave/31.wav\n",
      "making .spect file for /home/ildefonso/data/birdsong_recognition/Bird0/Wave/37.wav\n",
      "making .spect file for /home/ildefonso/data/birdsong_recognition/Bird0/Wave/75.wav\n",
      "making .spect file for /home/ildefonso/data/birdsong_recognition/Bird0/Wave/4.wav\n",
      "making .spect file for /home/ildefonso/data/birdsong_recognition/Bird0/Wave/59.wav\n",
      "making .spect file for /home/ildefonso/data/birdsong_recognition/Bird0/Wave/71.wav\n",
      "making .spect file for /home/ildefonso/data/birdsong_recognition/Bird0/Wave/64.wav\n",
      "making .spect file for /home/ildefonso/data/birdsong_recognition/Bird0/Wave/94.wav\n",
      "making .spect file for /home/ildefonso/data/birdsong_recognition/Bird0/Wave/20.wav\n",
      "making .spect file for /home/ildefonso/data/birdsong_recognition/Bird0/Wave/68.wav\n",
      "making .spect file for /home/ildefonso/data/birdsong_recognition/Bird0/Wave/100.wav\n",
      "making .spect file for /home/ildefonso/data/birdsong_recognition/Bird0/Wave/69.wav\n",
      "making .spect file for /home/ildefonso/data/birdsong_recognition/Bird0/Wave/84.wav\n",
      "making .spect file for /home/ildefonso/data/birdsong_recognition/Bird0/Wave/5.wav\n",
      "making .spect file for /home/ildefonso/data/birdsong_recognition/Bird0/Wave/1.wav\n",
      "making .spect file for /home/ildefonso/data/birdsong_recognition/Bird0/Wave/12.wav\n",
      "making .spect file for /home/ildefonso/data/birdsong_recognition/Bird0/Wave/58.wav\n",
      "making .spect file for /home/ildefonso/data/birdsong_recognition/Bird0/Wave/122.wav\n",
      "making .spect file for /home/ildefonso/data/birdsong_recognition/Bird0/Wave/65.wav\n",
      "making .spect file for /home/ildefonso/data/birdsong_recognition/Bird0/Wave/0.wav\n",
      "making .spect file for /home/ildefonso/data/birdsong_recognition/Bird0/Wave/10.wav\n",
      "making .spect file for /home/ildefonso/data/birdsong_recognition/Bird0/Wave/19.wav\n",
      "making .spect file for /home/ildefonso/data/birdsong_recognition/Bird0/Wave/90.wav\n",
      "making .spect file for /home/ildefonso/data/birdsong_recognition/Bird0/Wave/54.wav\n",
      "making .spect file for /home/ildefonso/data/birdsong_recognition/Bird0/Wave/113.wav\n",
      "making .spect file for /home/ildefonso/data/birdsong_recognition/Bird0/Wave/23.wav\n",
      "making .spect file for /home/ildefonso/data/birdsong_recognition/Bird0/Wave/43.wav\n",
      "making .spect file for /home/ildefonso/data/birdsong_recognition/Bird0/Wave/41.wav\n",
      "making .spect file for /home/ildefonso/data/birdsong_recognition/Bird0/Wave/51.wav\n",
      "making .spect file for /home/ildefonso/data/birdsong_recognition/Bird0/Wave/105.wav\n",
      "making .spect file for /home/ildefonso/data/birdsong_recognition/Bird0/Wave/7.wav\n",
      "making .spect file for /home/ildefonso/data/birdsong_recognition/Bird0/Wave/126.wav\n",
      "making .spect file for /home/ildefonso/data/birdsong_recognition/Bird0/Wave/133.wav\n",
      "making .spect file for /home/ildefonso/data/birdsong_recognition/Bird0/Wave/44.wav\n",
      "making .spect file for /home/ildefonso/data/birdsong_recognition/Bird0/Wave/47.wav\n",
      "making .spect file for /home/ildefonso/data/birdsong_recognition/Bird0/Wave/6.wav\n",
      "making .spect file for /home/ildefonso/data/birdsong_recognition/Bird0/Wave/70.wav\n",
      "making .spect file for /home/ildefonso/data/birdsong_recognition/Bird0/Wave/96.wav\n",
      "making .spect file for /home/ildefonso/data/birdsong_recognition/Bird0/Wave/25.wav\n",
      "making .spect file for /home/ildefonso/data/birdsong_recognition/Bird0/Wave/14.wav\n",
      "making .spect file for /home/ildefonso/data/birdsong_recognition/Bird0/Wave/8.wav\n",
      "making .spect file for /home/ildefonso/data/birdsong_recognition/Bird0/Wave/18.wav\n",
      "making .spect file for /home/ildefonso/data/birdsong_recognition/Bird0/Wave/33.wav\n",
      "making .spect file for /home/ildefonso/data/birdsong_recognition/Bird0/Wave/76.wav\n",
      "making .spect file for /home/ildefonso/data/birdsong_recognition/Bird0/Wave/127.wav\n",
      "making .spect file for /home/ildefonso/data/birdsong_recognition/Bird0/Wave/102.wav\n",
      "making .spect file for /home/ildefonso/data/birdsong_recognition/Bird0/Wave/134.wav\n",
      "making .spect file for /home/ildefonso/data/birdsong_recognition/Bird0/Wave/36.wav\n",
      "making .spect file for /home/ildefonso/data/birdsong_recognition/Bird0/Wave/34.wav\n",
      "making .spect file for /home/ildefonso/data/birdsong_recognition/Bird0/Wave/82.wav\n",
      "making .spect file for /home/ildefonso/data/birdsong_recognition/Bird0/Wave/119.wav\n",
      "making .spect file for /home/ildefonso/data/birdsong_recognition/Bird0/Wave/16.wav\n",
      "making .spect file for /home/ildefonso/data/birdsong_recognition/Bird0/Wave/72.wav\n",
      "making .spect file for /home/ildefonso/data/birdsong_recognition/Bird0/Wave/39.wav\n",
      "making .spect file for /home/ildefonso/data/birdsong_recognition/Bird0/Wave/124.wav\n",
      "making .spect file for /home/ildefonso/data/birdsong_recognition/Bird0/Wave/81.wav\n",
      "making .spect file for /home/ildefonso/data/birdsong_recognition/Bird0/Wave/116.wav\n",
      "making .spect file for /home/ildefonso/data/birdsong_recognition/Bird0/Wave/53.wav\n",
      "making .spect file for /home/ildefonso/data/birdsong_recognition/Bird0/Wave/128.wav\n",
      "making .spect file for /home/ildefonso/data/birdsong_recognition/Bird0/Wave/88.wav\n",
      "making .spect file for /home/ildefonso/data/birdsong_recognition/Bird0/Wave/123.wav\n",
      "making .spect file for /home/ildefonso/data/birdsong_recognition/Bird0/Wave/104.wav\n",
      "making .spect file for /home/ildefonso/data/birdsong_recognition/Bird0/Wave/63.wav\n",
      "making .spect file for /home/ildefonso/data/birdsong_recognition/Bird0/Wave/21.wav\n",
      "making .spect file for /home/ildefonso/data/birdsong_recognition/Bird0/Wave/103.wav\n",
      "making .spect file for /home/ildefonso/data/birdsong_recognition/Bird0/Wave/121.wav\n",
      "making .spect file for /home/ildefonso/data/birdsong_recognition/Bird0/Wave/107.wav\n",
      "making .spect file for /home/ildefonso/data/birdsong_recognition/Bird0/Wave/28.wav\n",
      "making .spect file for /home/ildefonso/data/birdsong_recognition/Bird0/Wave/29.wav\n",
      "making .spect file for /home/ildefonso/data/birdsong_recognition/Bird0/Wave/101.wav\n",
      "making .spect file for /home/ildefonso/data/birdsong_recognition/Bird0/Wave/89.wav\n",
      "making .spect file for /home/ildefonso/data/birdsong_recognition/Bird0/Wave/56.wav\n",
      "making .spect file for /home/ildefonso/data/birdsong_recognition/Bird0/Wave/46.wav\n",
      "making .spect file for /home/ildefonso/data/birdsong_recognition/Bird0/Wave/114.wav\n",
      "making .spect file for /home/ildefonso/data/birdsong_recognition/Bird0/Wave/77.wav\n",
      "making .spect file for /home/ildefonso/data/birdsong_recognition/Bird0/Wave/52.wav\n",
      "making .spect file for /home/ildefonso/data/birdsong_recognition/Bird0/Wave/30.wav\n",
      "making .spect file for /home/ildefonso/data/birdsong_recognition/Bird0/Wave/62.wav\n"
     ]
    },
    {
     "name": "stdout",
     "output_type": "stream",
     "text": [
      "making .spect file for /home/ildefonso/data/birdsong_recognition/Bird0/Wave/130.wav\n",
      "making .spect file for /home/ildefonso/data/birdsong_recognition/Bird0/Wave/118.wav\n",
      "making .spect file for /home/ildefonso/data/birdsong_recognition/Bird0/Wave/132.wav\n",
      "making .spect file for /home/ildefonso/data/birdsong_recognition/Bird0/Wave/22.wav\n",
      "making .spect file for /home/ildefonso/data/birdsong_recognition/Bird0/Wave/45.wav\n",
      "making .spect file for /home/ildefonso/data/birdsong_recognition/Bird0/Wave/60.wav\n",
      "making .spect file for /home/ildefonso/data/birdsong_recognition/Bird0/Wave/55.wav\n",
      "making .spect file for /home/ildefonso/data/birdsong_recognition/Bird0/Wave/2.wav\n",
      "making .spect file for /home/ildefonso/data/birdsong_recognition/Bird0/Wave/78.wav\n",
      "making .spect file for /home/ildefonso/data/birdsong_recognition/Bird0/Wave/74.wav\n",
      "making .spect file for /home/ildefonso/data/birdsong_recognition/Bird0/Wave/17.wav\n",
      "making .spect file for /home/ildefonso/data/birdsong_recognition/Bird0/Wave/110.wav\n",
      "making .spect file for /home/ildefonso/data/birdsong_recognition/Bird0/Wave/57.wav\n",
      "making .spect file for /home/ildefonso/data/birdsong_recognition/Bird0/Wave/42.wav\n",
      "making .spect file for /home/ildefonso/data/birdsong_recognition/Bird0/Wave/93.wav\n",
      "making .spect file for /home/ildefonso/data/birdsong_recognition/Bird0/Wave/3.wav\n",
      "making .spect file for /home/ildefonso/data/birdsong_recognition/Bird0/Wave/26.wav\n",
      "making .spect file for /home/ildefonso/data/birdsong_recognition/Bird0/Wave/129.wav\n",
      "making .spect file for /home/ildefonso/data/birdsong_recognition/Bird0/Wave/50.wav\n",
      "making .spect file for /home/ildefonso/data/birdsong_recognition/Bird0/Wave/117.wav\n",
      "making .spect file for /home/ildefonso/data/birdsong_recognition/Bird0/Wave/40.wav\n",
      "making .spect file for /home/ildefonso/data/birdsong_recognition/Bird0/Wave/49.wav\n",
      "making .spect file for /home/ildefonso/data/birdsong_recognition/Bird0/Wave/9.wav\n",
      "making .spect file for /home/ildefonso/data/birdsong_recognition/Bird0/Wave/32.wav\n",
      "making .spect file for /home/ildefonso/data/birdsong_recognition/Bird0/Wave/125.wav\n",
      "making .spect file for /home/ildefonso/data/birdsong_recognition/Bird0/Wave/115.wav\n",
      "making .spect file for /home/ildefonso/data/birdsong_recognition/Bird0/Wave/73.wav\n",
      "making .spect file for /home/ildefonso/data/birdsong_recognition/Bird0/Wave/87.wav\n",
      "making .spect file for /home/ildefonso/data/birdsong_recognition/Bird0/Wave/92.wav\n",
      "making .spect file for /home/ildefonso/data/birdsong_recognition/Bird0/Wave/35.wav\n",
      "making .spect file for /home/ildefonso/data/birdsong_recognition/Bird0/Wave/109.wav\n",
      "making .spect file for /home/ildefonso/data/birdsong_recognition/Bird0/Wave/15.wav\n",
      "making .spect file for /home/ildefonso/data/birdsong_recognition/Bird0/Wave/97.wav\n",
      "making .spect file for /home/ildefonso/data/birdsong_recognition/Bird0/Wave/99.wav\n",
      "making .spect file for /home/ildefonso/data/birdsong_recognition/Bird0/Wave/48.wav\n",
      "making .spect file for /home/ildefonso/data/birdsong_recognition/Bird0/Wave/11.wav\n",
      "making .spect file for /home/ildefonso/data/birdsong_recognition/Bird0/Wave/83.wav\n",
      "making .spect file for /home/ildefonso/data/birdsong_recognition/Bird0/Wave/120.wav\n",
      "making .spect file for /home/ildefonso/data/birdsong_recognition/Bird0/Wave/91.wav\n",
      "making .spect file for /home/ildefonso/data/birdsong_recognition/Bird0/Wave/61.wav\n",
      "saving data dictionary in /home/ildefonso/data/birdsong_recognition/Bird0/Wave/spectrograms_180406_202921\n",
      "saving data dictionary in /home/ildefonso/data/birdsong_recognition/Bird0/Wave/spectrograms_180406_202921\n",
      "saving data dictionary in /home/ildefonso/data/birdsong_recognition/Bird0/Wave/spectrograms_180406_202921\n"
     ]
    }
   ],
   "source": [
    "!python make_data.py ./experiment_configs/config_20180406_koumura_bird0_GPU1.ini"
   ]
  },
  {
   "cell_type": "code",
   "execution_count": 24,
   "metadata": {
    "scrolled": true
   },
   "outputs": [
    {
     "ename": "ImportError",
     "evalue": "cannot import name 'reshape_inputs_and_make_masks'",
     "output_type": "error",
     "traceback": [
      "\u001b[0;31m---------------------------------------------------------------------------\u001b[0m",
      "\u001b[0;31mImportError\u001b[0m                               Traceback (most recent call last)",
      "\u001b[0;32m~/Documents/repositories/coding/segmentation/compare-seg-models/learn_curve_keras.py\u001b[0m in \u001b[0;36m<module>\u001b[0;34m()\u001b[0m\n\u001b[1;32m     14\u001b[0m \u001b[0;32mfrom\u001b[0m \u001b[0mseg_nets\u001b[0m\u001b[0;34m.\u001b[0m\u001b[0mkeras_models\u001b[0m \u001b[0;32mimport\u001b[0m \u001b[0mED_TCN\u001b[0m\u001b[0;34m,\u001b[0m \u001b[0mDilated_TCN\u001b[0m\u001b[0;34m\u001b[0m\u001b[0m\n\u001b[1;32m     15\u001b[0m \u001b[0;32mimport\u001b[0m \u001b[0mseg_nets\u001b[0m\u001b[0;34m.\u001b[0m\u001b[0mdata_utils\u001b[0m\u001b[0;34m\u001b[0m\u001b[0m\n\u001b[0;32m---> 16\u001b[0;31m \u001b[0;32mfrom\u001b[0m \u001b[0mseg_nets\u001b[0m\u001b[0;34m.\u001b[0m\u001b[0mdata_utils\u001b[0m \u001b[0;32mimport\u001b[0m \u001b[0mreshape_inputs_and_make_masks\u001b[0m\u001b[0;34m\u001b[0m\u001b[0m\n\u001b[0m\u001b[1;32m     17\u001b[0m \u001b[0;34m\u001b[0m\u001b[0m\n\u001b[1;32m     18\u001b[0m \u001b[0;32mif\u001b[0m \u001b[0m__name__\u001b[0m \u001b[0;34m==\u001b[0m \u001b[0;34m\"__main__\"\u001b[0m\u001b[0;34m:\u001b[0m\u001b[0;34m\u001b[0m\u001b[0m\n",
      "\u001b[0;31mImportError\u001b[0m: cannot import name 'reshape_inputs_and_make_masks'"
     ]
    }
   ],
   "source": [
    "%run learn_curve_keras.py ./experiment_configs/config_20180406_koumura_bird0_GPU1.ini"
   ]
  },
  {
   "cell_type": "code",
   "execution_count": 4,
   "metadata": {},
   "outputs": [],
   "source": [
    "from math import ceil\n",
    "\n",
    "import numpy as np\n",
    "\n",
    "from keras.models import Model\n",
    "from keras.layers import Input, TimeDistributed, Add, Multiply\n",
    "from keras.layers.core import Activation, SpatialDropout1D, Lambda, Reshape, Dense\n",
    "from keras.layers.convolutional import Conv1D, Conv2D, ZeroPadding1D, Cropping1D\n",
    "from keras.layers.convolutional import MaxPooling1D, MaxPooling2D, UpSampling1D\n",
    "from keras.layers import Bidirectional\n",
    "from keras.layers.recurrent import LSTM\n",
    "\n",
    "import tensorflow as tf\n",
    "from keras import backend as K\n",
    "\n",
    "from keras.activations import relu\n",
    "from functools import partial"
   ]
  },
  {
   "cell_type": "code",
   "execution_count": 61,
   "metadata": {},
   "outputs": [
    {
     "data": {
      "text/plain": [
       "Dimension(None)"
      ]
     },
     "execution_count": 61,
     "metadata": {},
     "output_type": "execute_result"
    }
   ],
   "source": [
    "x.get_shape()[0]"
   ]
  },
  {
   "cell_type": "code",
   "execution_count": null,
   "metadata": {},
   "outputs": [],
   "source": [
    "K.map_fn(lambda i, time_steps: , dtype=tf.int32)"
   ]
  },
  {
   "cell_type": "code",
   "execution_count": 12,
   "metadata": {},
   "outputs": [],
   "source": [
    "n_filters_by_layer = (32, 64)\n",
    "max_len = 19292\n",
    "num_feat = 152\n",
    "inputs = Input(shape=(max_len, num_feat))\n",
    "time_steps = 88\n",
    "n_classes = 13\n",
    "\n",
    "\n",
    "x = inputs\n",
    "x = Conv1D(filters=1,kernel_size=time_steps,strides=1,padding='same',activation='linear')(x)\n",
    "# for n_filters in n_filters_by_layer:\n",
    "#     x = Conv2D(n_filters, kernel_size=(5, 5),\n",
    "#                padding=\"same\", activation='relu')(x)\n",
    "#     x = MaxPooling2D(pool_size=(1, 8),\n",
    "#                      strides=(1, 8))(x)\n",
    "# conv_out_shape = x.get_shape().as_list()\n",
    "# num_hidden = conv_out_shape[2] * conv_out_shape[3]\n",
    "# new_shape = (-1, num_hidden)\n",
    "# x = Reshape(new_shape)(x)\n",
    "# x = Bidirectional(\n",
    "#     LSTM(num_hidden, return_sequences=True, dropout=0.25,\n",
    "#          recurrent_dropout=0.1))(x)\n",
    "# x = TimeDistributed(Dense(n_classes, activation=\"softmax\"))(x)"
   ]
  },
  {
   "cell_type": "code",
   "execution_count": 13,
   "metadata": {},
   "outputs": [
    {
     "data": {
      "text/plain": [
       "<tf.Tensor 'conv1d_2/add:0' shape=(?, 19292, 1) dtype=float32>"
      ]
     },
     "execution_count": 13,
     "metadata": {},
     "output_type": "execute_result"
    }
   ],
   "source": [
    "x"
   ]
  },
  {
   "cell_type": "code",
   "execution_count": 6,
   "metadata": {},
   "outputs": [
    {
     "ename": "TypeError",
     "evalue": "Output tensors to a Model must be Keras tensors. Found: Tensor(\"frame/Reshape_4:0\", shape=(?, 19205, 88, 152, 1), dtype=float32)",
     "output_type": "error",
     "traceback": [
      "\u001b[0;31m---------------------------------------------------------------------------\u001b[0m",
      "\u001b[0;31mTypeError\u001b[0m                                 Traceback (most recent call last)",
      "\u001b[0;32m<ipython-input-6-c19f85b26585>\u001b[0m in \u001b[0;36m<module>\u001b[0;34m()\u001b[0m\n\u001b[0;32m----> 1\u001b[0;31m \u001b[0mmodel\u001b[0m \u001b[0;34m=\u001b[0m \u001b[0mModel\u001b[0m\u001b[0;34m(\u001b[0m\u001b[0minputs\u001b[0m\u001b[0;34m=\u001b[0m\u001b[0minputs\u001b[0m\u001b[0;34m,\u001b[0m \u001b[0moutputs\u001b[0m\u001b[0;34m=\u001b[0m\u001b[0mx\u001b[0m\u001b[0;34m)\u001b[0m\u001b[0;34m\u001b[0m\u001b[0m\n\u001b[0m",
      "\u001b[0;32m~/anaconda3/envs/tcn/lib/python3.5/site-packages/keras/legacy/interfaces.py\u001b[0m in \u001b[0;36mwrapper\u001b[0;34m(*args, **kwargs)\u001b[0m\n\u001b[1;32m     89\u001b[0m                 warnings.warn('Update your `' + object_name +\n\u001b[1;32m     90\u001b[0m                               '` call to the Keras 2 API: ' + signature, stacklevel=2)\n\u001b[0;32m---> 91\u001b[0;31m             \u001b[0;32mreturn\u001b[0m \u001b[0mfunc\u001b[0m\u001b[0;34m(\u001b[0m\u001b[0;34m*\u001b[0m\u001b[0margs\u001b[0m\u001b[0;34m,\u001b[0m \u001b[0;34m**\u001b[0m\u001b[0mkwargs\u001b[0m\u001b[0;34m)\u001b[0m\u001b[0;34m\u001b[0m\u001b[0m\n\u001b[0m\u001b[1;32m     92\u001b[0m         \u001b[0mwrapper\u001b[0m\u001b[0;34m.\u001b[0m\u001b[0m_original_function\u001b[0m \u001b[0;34m=\u001b[0m \u001b[0mfunc\u001b[0m\u001b[0;34m\u001b[0m\u001b[0m\n\u001b[1;32m     93\u001b[0m         \u001b[0;32mreturn\u001b[0m \u001b[0mwrapper\u001b[0m\u001b[0;34m\u001b[0m\u001b[0m\n",
      "\u001b[0;32m~/anaconda3/envs/tcn/lib/python3.5/site-packages/keras/engine/topology.py\u001b[0m in \u001b[0;36m__init__\u001b[0;34m(self, inputs, outputs, name)\u001b[0m\n\u001b[1;32m   1595\u001b[0m                 \u001b[0mcls_name\u001b[0m \u001b[0;34m=\u001b[0m \u001b[0mself\u001b[0m\u001b[0;34m.\u001b[0m\u001b[0m__class__\u001b[0m\u001b[0;34m.\u001b[0m\u001b[0m__name__\u001b[0m\u001b[0;34m\u001b[0m\u001b[0m\n\u001b[1;32m   1596\u001b[0m                 raise TypeError('Output tensors to a ' + cls_name + ' must be '\n\u001b[0;32m-> 1597\u001b[0;31m                                 'Keras tensors. Found: ' + str(x))\n\u001b[0m\u001b[1;32m   1598\u001b[0m         \u001b[0;31m# Build self.output_layers:\u001b[0m\u001b[0;34m\u001b[0m\u001b[0;34m\u001b[0m\u001b[0m\n\u001b[1;32m   1599\u001b[0m         \u001b[0;32mfor\u001b[0m \u001b[0mx\u001b[0m \u001b[0;32min\u001b[0m \u001b[0mself\u001b[0m\u001b[0;34m.\u001b[0m\u001b[0moutputs\u001b[0m\u001b[0;34m:\u001b[0m\u001b[0;34m\u001b[0m\u001b[0m\n",
      "\u001b[0;31mTypeError\u001b[0m: Output tensors to a Model must be Keras tensors. Found: Tensor(\"frame/Reshape_4:0\", shape=(?, 19205, 88, 152, 1), dtype=float32)"
     ]
    }
   ],
   "source": [
    "model = Model(inputs=inputs, outputs=x)"
   ]
  },
  {
   "cell_type": "code",
   "execution_count": 95,
   "metadata": {},
   "outputs": [
    {
     "data": {
      "text/plain": [
       "(None, 19292, 13)"
      ]
     },
     "execution_count": 95,
     "metadata": {},
     "output_type": "execute_result"
    }
   ],
   "source": [
    "model.layers[-1].output_shape"
   ]
  },
  {
   "cell_type": "code",
   "execution_count": 18,
   "metadata": {},
   "outputs": [],
   "source": [
    "def out_width(in_width, filter_width, stride):\n",
    "    return ceil(float(in_width - filter_width + 1) / float(stride))"
   ]
  },
  {
   "cell_type": "code",
   "execution_count": 25,
   "metadata": {},
   "outputs": [],
   "source": [
    "freq_bins_after_pool1 = out_width(152,\n",
    "                                  8,\n",
    "                                  8)\n",
    "freq_bins_after_pool2 = out_width(freq_bins_after_pool1,\n",
    "                                  8,\n",
    "                                  8)"
   ]
  },
  {
   "cell_type": "code",
   "execution_count": 14,
   "metadata": {},
   "outputs": [],
   "source": [
    "from numpy.lib import stride_tricks"
   ]
  },
  {
   "cell_type": "code",
   "execution_count": 15,
   "metadata": {},
   "outputs": [],
   "source": [
    "import joblib"
   ]
  },
  {
   "cell_type": "code",
   "execution_count": 20,
   "metadata": {},
   "outputs": [
    {
     "name": "stdout",
     "output_type": "stream",
     "text": [
      "/home/ildefonso/data/birdsong_recognition/Bird1/Wave/spectrograms_180407_204020\n"
     ]
    }
   ],
   "source": [
    "cd /home/ildefonso/data/birdsong_recognition/Bird1/Wave/spectrograms_180407_204020/"
   ]
  },
  {
   "cell_type": "code",
   "execution_count": 21,
   "metadata": {},
   "outputs": [],
   "source": [
    "trd = joblib.load('train_data_dict')"
   ]
  },
  {
   "cell_type": "code",
   "execution_count": 23,
   "metadata": {},
   "outputs": [],
   "source": [
    "X_tr = trd['X_train']"
   ]
  },
  {
   "cell_type": "code",
   "execution_count": 24,
   "metadata": {},
   "outputs": [
    {
     "data": {
      "text/plain": [
       "(152, 300000)"
      ]
     },
     "execution_count": 24,
     "metadata": {},
     "output_type": "execute_result"
    }
   ],
   "source": [
    "X_tr.shape"
   ]
  },
  {
   "cell_type": "code",
   "execution_count": 28,
   "metadata": {},
   "outputs": [
    {
     "ename": "ValueError",
     "evalue": "mismatch in length of strides and shape",
     "output_type": "error",
     "traceback": [
      "\u001b[0;31m---------------------------------------------------------------------------\u001b[0m",
      "\u001b[0;31mValueError\u001b[0m                                Traceback (most recent call last)",
      "\u001b[0;32m<ipython-input-28-db22c96795e7>\u001b[0m in \u001b[0;36m<module>\u001b[0;34m()\u001b[0m\n\u001b[0;32m----> 1\u001b[0;31m \u001b[0mt\u001b[0m \u001b[0;34m=\u001b[0m \u001b[0mstride_tricks\u001b[0m\u001b[0;34m.\u001b[0m\u001b[0mas_strided\u001b[0m\u001b[0;34m(\u001b[0m\u001b[0mX_tr\u001b[0m\u001b[0;34m,\u001b[0m \u001b[0mshape\u001b[0m\u001b[0;34m=\u001b[0m\u001b[0;34m(\u001b[0m\u001b[0mX_tr\u001b[0m\u001b[0;34m.\u001b[0m\u001b[0mshape\u001b[0m\u001b[0;34m[\u001b[0m\u001b[0;34m-\u001b[0m\u001b[0;36m1\u001b[0m\u001b[0;34m]\u001b[0m\u001b[0;34m-\u001b[0m\u001b[0;36m88\u001b[0m\u001b[0;34m,\u001b[0m\u001b[0;36m152\u001b[0m\u001b[0;34m,\u001b[0m\u001b[0;36m88\u001b[0m\u001b[0;34m)\u001b[0m\u001b[0;34m,\u001b[0m \u001b[0mstrides\u001b[0m\u001b[0;34m=\u001b[0m\u001b[0mX_tr\u001b[0m\u001b[0;34m.\u001b[0m\u001b[0mstrides\u001b[0m\u001b[0;34m)\u001b[0m\u001b[0;34m\u001b[0m\u001b[0m\n\u001b[0m",
      "\u001b[0;32m~/anaconda3/envs/tcn/lib/python3.5/site-packages/numpy/lib/stride_tricks.py\u001b[0m in \u001b[0;36mas_strided\u001b[0;34m(x, shape, strides, subok, writeable)\u001b[0m\n\u001b[1;32m    100\u001b[0m         \u001b[0minterface\u001b[0m\u001b[0;34m[\u001b[0m\u001b[0;34m'strides'\u001b[0m\u001b[0;34m]\u001b[0m \u001b[0;34m=\u001b[0m \u001b[0mtuple\u001b[0m\u001b[0;34m(\u001b[0m\u001b[0mstrides\u001b[0m\u001b[0;34m)\u001b[0m\u001b[0;34m\u001b[0m\u001b[0m\n\u001b[1;32m    101\u001b[0m \u001b[0;34m\u001b[0m\u001b[0m\n\u001b[0;32m--> 102\u001b[0;31m     \u001b[0marray\u001b[0m \u001b[0;34m=\u001b[0m \u001b[0mnp\u001b[0m\u001b[0;34m.\u001b[0m\u001b[0masarray\u001b[0m\u001b[0;34m(\u001b[0m\u001b[0mDummyArray\u001b[0m\u001b[0;34m(\u001b[0m\u001b[0minterface\u001b[0m\u001b[0;34m,\u001b[0m \u001b[0mbase\u001b[0m\u001b[0;34m=\u001b[0m\u001b[0mx\u001b[0m\u001b[0;34m)\u001b[0m\u001b[0;34m)\u001b[0m\u001b[0;34m\u001b[0m\u001b[0m\n\u001b[0m\u001b[1;32m    103\u001b[0m     \u001b[0;31m# The route via `__interface__` does not preserve structured\u001b[0m\u001b[0;34m\u001b[0m\u001b[0;34m\u001b[0m\u001b[0m\n\u001b[1;32m    104\u001b[0m     \u001b[0;31m# dtypes. Since dtype should remain unchanged, we set it explicitly.\u001b[0m\u001b[0;34m\u001b[0m\u001b[0;34m\u001b[0m\u001b[0m\n",
      "\u001b[0;32m~/anaconda3/envs/tcn/lib/python3.5/site-packages/numpy/core/numeric.py\u001b[0m in \u001b[0;36masarray\u001b[0;34m(a, dtype, order)\u001b[0m\n\u001b[1;32m    490\u001b[0m \u001b[0;34m\u001b[0m\u001b[0m\n\u001b[1;32m    491\u001b[0m     \"\"\"\n\u001b[0;32m--> 492\u001b[0;31m     \u001b[0;32mreturn\u001b[0m \u001b[0marray\u001b[0m\u001b[0;34m(\u001b[0m\u001b[0ma\u001b[0m\u001b[0;34m,\u001b[0m \u001b[0mdtype\u001b[0m\u001b[0;34m,\u001b[0m \u001b[0mcopy\u001b[0m\u001b[0;34m=\u001b[0m\u001b[0;32mFalse\u001b[0m\u001b[0;34m,\u001b[0m \u001b[0morder\u001b[0m\u001b[0;34m=\u001b[0m\u001b[0morder\u001b[0m\u001b[0;34m)\u001b[0m\u001b[0;34m\u001b[0m\u001b[0m\n\u001b[0m\u001b[1;32m    493\u001b[0m \u001b[0;34m\u001b[0m\u001b[0m\n\u001b[1;32m    494\u001b[0m \u001b[0;34m\u001b[0m\u001b[0m\n",
      "\u001b[0;31mValueError\u001b[0m: mismatch in length of strides and shape"
     ]
    }
   ],
   "source": [
    "t = stride_tricks.as_strided(X_tr, shape=(X_tr.shape[-1]-88,152,88), strides=(X_tr.strides)"
   ]
  },
  {
   "cell_type": "code",
   "execution_count": 42,
   "metadata": {},
   "outputs": [],
   "source": [
    "t = array_for_sliding_window(X_tr, (152,300))"
   ]
  },
  {
   "cell_type": "code",
   "execution_count": 45,
   "metadata": {},
   "outputs": [],
   "source": [
    "tsq = np.squeeze(t)"
   ]
  },
  {
   "cell_type": "code",
   "execution_count": 46,
   "metadata": {},
   "outputs": [
    {
     "data": {
      "text/plain": [
       "(299701, 152, 300)"
      ]
     },
     "execution_count": 46,
     "metadata": {},
     "output_type": "execute_result"
    }
   ],
   "source": [
    "tsq.shape"
   ]
  },
  {
   "cell_type": "code",
   "execution_count": 31,
   "metadata": {},
   "outputs": [],
   "source": [
    "import numpy as np\n",
    "\n",
    "def array_for_sliding_window(x, wshape):\n",
    "    \"\"\"Build a sliding-window representation of x.\n",
    "\n",
    "    The last dimension(s) of the output array contain the data of\n",
    "    the specific window.  The number of dimensions in the output is \n",
    "    twice that of the input.\n",
    "\n",
    "    Parameters\n",
    "    ----------\n",
    "    x : ndarray_like\n",
    "       An array for which is desired a representation to which sliding-windows \n",
    "       computations can be easily applied.\n",
    "    wshape : int or tuple\n",
    "       If an integer, then it is converted into a tuple of size given by the \n",
    "       number of dimensions of x with every element set to that integer.\n",
    "       If a tuple, then it should be the shape of the desired window-function\n",
    "\n",
    "    Returns\n",
    "    -------\n",
    "    out : ndarray\n",
    "        Return a zero-copy view of the data in x so that operations can be \n",
    "        performed over the last dimensions of this new array and be equivalent \n",
    "        to a sliding window calculation.  The shape of out is 2*x.ndim with \n",
    "        the shape of the last nd dimensions equal to wshape while the shape \n",
    "        of the first n dimensions is found by subtracting the window shape\n",
    "        from the input shape and adding one in each dimension.  This is \n",
    "        the number of \"complete\" blocks of shape wshape in x.\n",
    "\n",
    "    Raises\n",
    "    ------\n",
    "    ValueError\n",
    "        If the size of wshape is not x.ndim (unless wshape is an integer).\n",
    "        If one of the dimensions of wshape exceeds the input array. \n",
    "\n",
    "    Examples\n",
    "    --------\n",
    "    >>> x = np.linspace(1,5,5)\n",
    "    >>> x\n",
    "    array([ 1.,  2.,  3.,  4.,  5.])\n",
    "\n",
    "    >>> array_for_rolling_window(x, 3)\n",
    "    array([[ 1.,  2.,  3.],\n",
    "           [ 2.,  3.,  4.],\n",
    "           [ 3.,  4.,  5.]])\n",
    "           \n",
    "    >>> x = np.arange(1,17).reshape(4,4)\n",
    "    >>> x\n",
    "    array([[ 1,  2,  3,  4],\n",
    "           [ 5,  6,  7,  8],\n",
    "           [ 9, 10, 11, 12],\n",
    "           [13, 14, 15, 16]])\n",
    "\n",
    "    >>> array_for_rolling_window(x, 3)\n",
    "    array([[[[ 1,  2,  3],\n",
    "             [ 5,  6,  7],\n",
    "             [ 9, 10, 11]],\n",
    "\n",
    "            [[ 2,  3,  4],\n",
    "             [ 6,  7,  8],\n",
    "             [10, 11, 12]]],\n",
    "\n",
    "           [[[ 5,  6,  7],\n",
    "             [ 9, 10, 11],\n",
    "             [13, 14, 15]],\n",
    "\n",
    "            [[ 6,  7,  8],\n",
    "             [10, 11, 12],\n",
    "             [14, 15, 16]]]])\n",
    "    \"\"\"\n",
    "    x = np.asarray(x)\n",
    "\n",
    "    try:\n",
    "        nd = len(wshape)\n",
    "    except TypeError:\n",
    "        wshape = tuple(wshape for i in x.shape)\n",
    "        nd = len(wshape)\n",
    "    if nd != x.ndim:\n",
    "        raise ValueError(\"wshape has length {0} instead of \"\n",
    "                         \"x.ndim which is {1}\".format(len(wshape), x.ndim)) \n",
    "    \n",
    "    out_shape = tuple(xi-wi+1 for xi, wi in zip(x.shape, wshape)) + wshape\n",
    "    if not all(i>0 for i in out_shape):\n",
    "        raise ValueError(\"wshape is bigger than input array along at \"\n",
    "                         \"least one dimension\")\n",
    "\n",
    "    out_strides = x.strides*2\n",
    "    \n",
    "    return np.lib.stride_tricks.as_strided(x, out_shape, out_strides)\n"
   ]
  },
  {
   "cell_type": "code",
   "execution_count": 35,
   "metadata": {},
   "outputs": [
    {
     "data": {
      "text/plain": [
       "(2400000, 8, 2400000, 8)"
      ]
     },
     "execution_count": 35,
     "metadata": {},
     "output_type": "execute_result"
    }
   ],
   "source": [
    "X_tr.strides*2"
   ]
  },
  {
   "cell_type": "code",
   "execution_count": null,
   "metadata": {},
   "outputs": [],
   "source": []
  }
 ],
 "metadata": {
  "kernelspec": {
   "display_name": "Python 3",
   "language": "python",
   "name": "python3"
  },
  "language_info": {
   "codemirror_mode": {
    "name": "ipython",
    "version": 3
   },
   "file_extension": ".py",
   "mimetype": "text/x-python",
   "name": "python",
   "nbconvert_exporter": "python",
   "pygments_lexer": "ipython3",
   "version": "3.5.5"
  }
 },
 "nbformat": 4,
 "nbformat_minor": 2
}
