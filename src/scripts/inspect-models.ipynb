{
 "cells": [
  {
   "cell_type": "code",
   "execution_count": 2,
   "id": "646be00a-894a-4de4-b92b-9f3a687bcf48",
   "metadata": {},
   "outputs": [],
   "source": [
    "import yaml\n",
    "\n",
    "import seg_nets"
   ]
  },
  {
   "cell_type": "code",
   "execution_count": 3,
   "id": "fc7f88b0-1208-494c-b84a-9dcbd8fb9e72",
   "metadata": {},
   "outputs": [
    {
     "name": "stdout",
     "output_type": "stream",
     "text": [
      "/home/ildefonso/Documents/repos/vocalpy/compare-seg-models\n"
     ]
    }
   ],
   "source": [
    "cd /home/ildefonso/Documents/repos/vocalpy/compare-seg-models"
   ]
  },
  {
   "cell_type": "code",
   "execution_count": 4,
   "id": "b696c0de-b3aa-4e15-935d-b94e63c97e0e",
   "metadata": {},
   "outputs": [],
   "source": [
    "networks_config_file = './data/network_configs/config_20181123_1516'\n",
    "with open(networks_config_file,'r') as yml:\n",
    "    networks_config = yaml.safe_load(yml)"
   ]
  },
  {
   "cell_type": "code",
   "execution_count": 5,
   "id": "db5617b7-7b6f-4127-a5cf-deab3265825e",
   "metadata": {},
   "outputs": [],
   "source": [
    "model_config = networks_config['models']['CNN_ED_TCN_25']"
   ]
  },
  {
   "cell_type": "code",
   "execution_count": 7,
   "id": "78b7c35a-086a-4f0c-b7bb-bc55b425d18c",
   "metadata": {},
   "outputs": [
    {
     "name": "stderr",
     "output_type": "stream",
     "text": [
      "2023-06-27 20:52:09.803000: I tensorflow/stream_executor/cuda/cuda_gpu_executor.cc:975] successful NUMA node read from SysFS had negative value (-1), but there must be at least one NUMA node, so returning NUMA node zero\n",
      "2023-06-27 20:52:09.803407: I tensorflow/stream_executor/cuda/cuda_gpu_executor.cc:975] successful NUMA node read from SysFS had negative value (-1), but there must be at least one NUMA node, so returning NUMA node zero\n",
      "2023-06-27 20:52:09.803782: W tensorflow/stream_executor/platform/default/dso_loader.cc:64] Could not load dynamic library 'libcudart.so.11.0'; dlerror: libcudart.so.11.0: cannot open shared object file: No such file or directory\n",
      "2023-06-27 20:52:09.803877: W tensorflow/stream_executor/platform/default/dso_loader.cc:64] Could not load dynamic library 'libcublas.so.11'; dlerror: libcublas.so.11: cannot open shared object file: No such file or directory\n",
      "2023-06-27 20:52:09.803955: W tensorflow/stream_executor/platform/default/dso_loader.cc:64] Could not load dynamic library 'libcublasLt.so.11'; dlerror: libcublasLt.so.11: cannot open shared object file: No such file or directory\n",
      "2023-06-27 20:52:09.804032: W tensorflow/stream_executor/platform/default/dso_loader.cc:64] Could not load dynamic library 'libcufft.so.10'; dlerror: libcufft.so.10: cannot open shared object file: No such file or directory\n",
      "2023-06-27 20:52:09.804109: W tensorflow/stream_executor/platform/default/dso_loader.cc:64] Could not load dynamic library 'libcurand.so.10'; dlerror: libcurand.so.10: cannot open shared object file: No such file or directory\n",
      "2023-06-27 20:52:09.804188: W tensorflow/stream_executor/platform/default/dso_loader.cc:64] Could not load dynamic library 'libcusolver.so.11'; dlerror: libcusolver.so.11: cannot open shared object file: No such file or directory\n",
      "2023-06-27 20:52:09.804264: W tensorflow/stream_executor/platform/default/dso_loader.cc:64] Could not load dynamic library 'libcusparse.so.11'; dlerror: libcusparse.so.11: cannot open shared object file: No such file or directory\n",
      "2023-06-27 20:52:09.804340: W tensorflow/stream_executor/platform/default/dso_loader.cc:64] Could not load dynamic library 'libcudnn.so.8'; dlerror: libcudnn.so.8: cannot open shared object file: No such file or directory\n",
      "2023-06-27 20:52:09.804349: W tensorflow/core/common_runtime/gpu/gpu_device.cc:1850] Cannot dlopen some GPU libraries. Please make sure the missing libraries mentioned above are installed properly if you would like to use GPU. Follow the guide at https://www.tensorflow.org/install/gpu for how to download and setup the required libraries for your platform.\n",
      "Skipping registering GPU devices...\n",
      "2023-06-27 20:52:09.804896: I tensorflow/core/platform/cpu_feature_guard.cc:193] This TensorFlow binary is optimized with oneAPI Deep Neural Network Library (oneDNN) to use the following CPU instructions in performance-critical operations:  AVX2 FMA\n",
      "To enable them in other operations, rebuild TensorFlow with the appropriate compiler flags.\n"
     ]
    }
   ],
   "source": [
    "n_syllables = 10\n",
    "num_freq_bins = 512\n",
    "time_steps = 1000\n",
    "\n",
    "model = seg_nets.keras_models.CNN_ED_TCN(n_nodes=model_config['n_nodes'],\n",
    "               conv_len=model_config['conv_len'],\n",
    "               n_filters_by_layer=model_config['n_filters_by_layer'],\n",
    "               n_classes=n_syllables,\n",
    "               n_feat=num_freq_bins,\n",
    "               max_len=time_steps,\n",
    "               causal=model_config['causal'],\n",
    "               activation=model_config['activation'],\n",
    "               optimizer=model_config['optimizer'],\n",
    "               loss=model_config['loss'])"
   ]
  },
  {
   "cell_type": "code",
   "execution_count": 9,
   "id": "65587629-2c71-4f47-ac4f-3253b8eba5ea",
   "metadata": {},
   "outputs": [
    {
     "data": {
      "text/plain": [
       "[<keras.engine.input_layer.InputLayer at 0x7f9a90392e30>,\n",
       " <keras.layers.reshaping.reshape.Reshape at 0x7f9a90b46e30>,\n",
       " <keras.layers.convolutional.conv2d.Conv2D at 0x7f9a90390370>,\n",
       " <keras.layers.pooling.max_pooling2d.MaxPooling2D at 0x7f9a90392890>,\n",
       " <keras.layers.convolutional.conv2d.Conv2D at 0x7f9a90393070>,\n",
       " <keras.layers.pooling.max_pooling2d.MaxPooling2D at 0x7f9a90390430>,\n",
       " <keras.layers.reshaping.reshape.Reshape at 0x7f9a90391600>,\n",
       " <keras.layers.convolutional.conv1d.Conv1D at 0x7f9a90b8bca0>,\n",
       " <keras.layers.regularization.spatial_dropout1d.SpatialDropout1D at 0x7f9a90b8b850>,\n",
       " <keras.layers.core.activation.Activation at 0x7f9a90b89ed0>,\n",
       " <keras.layers.core.lambda_layer.Lambda at 0x7f9a90b89330>,\n",
       " <keras.layers.pooling.max_pooling1d.MaxPooling1D at 0x7f9a90b89360>,\n",
       " <keras.layers.convolutional.conv1d.Conv1D at 0x7f9a90c1df60>,\n",
       " <keras.layers.regularization.spatial_dropout1d.SpatialDropout1D at 0x7f9a90c1e410>,\n",
       " <keras.layers.core.activation.Activation at 0x7f9a90c1c760>,\n",
       " <keras.layers.core.lambda_layer.Lambda at 0x7f9a90c1f520>,\n",
       " <keras.layers.pooling.max_pooling1d.MaxPooling1D at 0x7f9a90c1c7f0>,\n",
       " <keras.layers.reshaping.up_sampling1d.UpSampling1D at 0x7f9a90b8b910>,\n",
       " <keras.layers.convolutional.conv1d.Conv1D at 0x7f9a90c13fa0>,\n",
       " <keras.layers.regularization.spatial_dropout1d.SpatialDropout1D at 0x7f9a90c132b0>,\n",
       " <keras.layers.core.activation.Activation at 0x7f9a90dfb370>,\n",
       " <keras.layers.core.lambda_layer.Lambda at 0x7f9a90dfa9e0>,\n",
       " <keras.layers.reshaping.up_sampling1d.UpSampling1D at 0x7f9a90dfad70>,\n",
       " <keras.layers.convolutional.conv1d.Conv1D at 0x7f9a90df9cc0>,\n",
       " <keras.layers.regularization.spatial_dropout1d.SpatialDropout1D at 0x7f9a90df95d0>,\n",
       " <keras.layers.core.activation.Activation at 0x7f9a90c101f0>,\n",
       " <keras.layers.core.lambda_layer.Lambda at 0x7f9a90c10610>,\n",
       " <keras.layers.rnn.time_distributed.TimeDistributed at 0x7f9a90c1dc00>]"
      ]
     },
     "execution_count": 9,
     "metadata": {},
     "output_type": "execute_result"
    }
   ],
   "source": [
    "model.layers"
   ]
  },
  {
   "cell_type": "code",
   "execution_count": 14,
   "id": "7ad877c6-0bc9-469b-a838-b08cd503649b",
   "metadata": {},
   "outputs": [
    {
     "data": {
      "text/plain": [
       "(None, 1000, 8, 64)"
      ]
     },
     "execution_count": 14,
     "metadata": {},
     "output_type": "execute_result"
    }
   ],
   "source": [
    "model.layers[6].input_shape"
   ]
  },
  {
   "cell_type": "code",
   "execution_count": 13,
   "id": "a20cb1bf-c48b-47f2-837b-1bae1f6f08c7",
   "metadata": {},
   "outputs": [
    {
     "data": {
      "text/plain": [
       "(None, 1000, 512)"
      ]
     },
     "execution_count": 13,
     "metadata": {},
     "output_type": "execute_result"
    }
   ],
   "source": [
    "model.layers[6].output_shape"
   ]
  },
  {
   "cell_type": "code",
   "execution_count": 16,
   "id": "5e5db2f3-11b5-4869-a7b3-503c92cc4d57",
   "metadata": {},
   "outputs": [
    {
     "name": "stdout",
     "output_type": "stream",
     "text": [
      "input_1, input shape: [(None, 1000, 512)], output shape: [(None, 1000, 512)]\n",
      "reshape, input shape: (None, 1000, 512), output shape: (None, 1000, 512, 1)\n",
      "conv2d, input shape: (None, 1000, 512, 1), output shape: (None, 1000, 512, 32)\n",
      "max_pooling2d, input shape: (None, 1000, 512, 32), output shape: (None, 1000, 64, 32)\n",
      "conv2d_1, input shape: (None, 1000, 64, 32), output shape: (None, 1000, 64, 64)\n",
      "max_pooling2d_1, input shape: (None, 1000, 64, 64), output shape: (None, 1000, 8, 64)\n",
      "reshape_1, input shape: (None, 1000, 8, 64), output shape: (None, 1000, 512)\n",
      "conv1d, input shape: (None, 1000, 512), output shape: (None, 1000, 64)\n",
      "spatial_dropout1d, input shape: (None, 1000, 64), output shape: (None, 1000, 64)\n",
      "activation, input shape: (None, 1000, 64), output shape: (None, 1000, 64)\n",
      "encoder_norm_0, input shape: (None, 1000, 64), output shape: (None, 1000, 64)\n",
      "max_pooling1d, input shape: (None, 1000, 64), output shape: (None, 500, 64)\n",
      "conv1d_1, input shape: (None, 500, 64), output shape: (None, 500, 96)\n",
      "spatial_dropout1d_1, input shape: (None, 500, 96), output shape: (None, 500, 96)\n",
      "activation_1, input shape: (None, 500, 96), output shape: (None, 500, 96)\n",
      "encoder_norm_1, input shape: (None, 500, 96), output shape: (None, 500, 96)\n",
      "max_pooling1d_1, input shape: (None, 500, 96), output shape: (None, 250, 96)\n",
      "up_sampling1d, input shape: (None, 250, 96), output shape: (None, 500, 96)\n",
      "conv1d_2, input shape: (None, 500, 96), output shape: (None, 500, 96)\n",
      "spatial_dropout1d_2, input shape: (None, 500, 96), output shape: (None, 500, 96)\n",
      "activation_2, input shape: (None, 500, 96), output shape: (None, 500, 96)\n",
      "decoder_norm_0, input shape: (None, 500, 96), output shape: (None, 500, 96)\n",
      "up_sampling1d_1, input shape: (None, 500, 96), output shape: (None, 1000, 96)\n",
      "conv1d_3, input shape: (None, 1000, 96), output shape: (None, 1000, 64)\n",
      "spatial_dropout1d_3, input shape: (None, 1000, 64), output shape: (None, 1000, 64)\n",
      "activation_3, input shape: (None, 1000, 64), output shape: (None, 1000, 64)\n",
      "decoder_norm_1, input shape: (None, 1000, 64), output shape: (None, 1000, 64)\n",
      "time_distributed, input shape: (None, 1000, 64), output shape: (None, 1000, 10)\n"
     ]
    }
   ],
   "source": [
    "for layer in model.layers:\n",
    "    print(f\"{layer.name}, input shape: {layer.input_shape}, output shape: {layer.output_shape}\")"
   ]
  },
  {
   "cell_type": "code",
   "execution_count": null,
   "id": "4c2fa0e3-788f-48fb-b588-da915014912d",
   "metadata": {},
   "outputs": [],
   "source": []
  }
 ],
 "metadata": {
  "kernelspec": {
   "display_name": "Python 3 (ipykernel)",
   "language": "python",
   "name": "python3"
  },
  "language_info": {
   "codemirror_mode": {
    "name": "ipython",
    "version": 3
   },
   "file_extension": ".py",
   "mimetype": "text/x-python",
   "name": "python",
   "nbconvert_exporter": "python",
   "pygments_lexer": "ipython3",
   "version": "3.10.4"
  }
 },
 "nbformat": 4,
 "nbformat_minor": 5
}
